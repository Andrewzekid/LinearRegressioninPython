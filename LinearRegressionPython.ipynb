{
  "nbformat": 4,
  "nbformat_minor": 0,
  "metadata": {
    "colab": {
      "name": "LinearRegressionPython.ipynb",
      "provenance": [],
      "collapsed_sections": []
    },
    "kernelspec": {
      "name": "python3",
      "display_name": "Python 3"
    },
    "language_info": {
      "name": "python"
    }
  },
  "cells": [
    {
      "cell_type": "code",
      "execution_count": 1,
      "metadata": {
        "id": "ltT82I_on5Dw"
      },
      "outputs": [],
      "source": [
        "import numpy as np\n",
        "import math\n",
        "import random\n"
      ]
    },
    {
      "cell_type": "code",
      "source": [
        "import pandas as pd"
      ],
      "metadata": {
        "id": "0B1aqljbomwS"
      },
      "execution_count": 2,
      "outputs": []
    },
    {
      "cell_type": "code",
      "source": [
        "import matplotlib.pyplot as plt"
      ],
      "metadata": {
        "id": "TLxKCQQlop8p"
      },
      "execution_count": 3,
      "outputs": []
    },
    {
      "cell_type": "code",
      "source": [
        "import zipfile"
      ],
      "metadata": {
        "id": "_Kf3-YZ4ptjF"
      },
      "execution_count": 5,
      "outputs": []
    },
    {
      "cell_type": "code",
      "source": [
        "file = zipfile.ZipFile(\"archive.zip\").extractall()"
      ],
      "metadata": {
        "id": "VOQcjpZQp3SJ"
      },
      "execution_count": 6,
      "outputs": []
    },
    {
      "cell_type": "code",
      "source": [
        "data = pd.read_csv(\"train.csv\")"
      ],
      "metadata": {
        "id": "saat4mW-p-xb"
      },
      "execution_count": 8,
      "outputs": []
    },
    {
      "cell_type": "code",
      "source": [
        "data.describe()"
      ],
      "metadata": {
        "colab": {
          "base_uri": "https://localhost:8080/",
          "height": 300
        },
        "id": "PQNmNyNJqEpO",
        "outputId": "aaf78588-839d-4fe0-d452-0eb046466679"
      },
      "execution_count": 13,
      "outputs": [
        {
          "output_type": "execute_result",
          "data": {
            "text/html": [
              "\n",
              "  <div id=\"df-bf7de285-a673-4f4f-9835-7b6f4a83b068\">\n",
              "    <div class=\"colab-df-container\">\n",
              "      <div>\n",
              "<style scoped>\n",
              "    .dataframe tbody tr th:only-of-type {\n",
              "        vertical-align: middle;\n",
              "    }\n",
              "\n",
              "    .dataframe tbody tr th {\n",
              "        vertical-align: top;\n",
              "    }\n",
              "\n",
              "    .dataframe thead th {\n",
              "        text-align: right;\n",
              "    }\n",
              "</style>\n",
              "<table border=\"1\" class=\"dataframe\">\n",
              "  <thead>\n",
              "    <tr style=\"text-align: right;\">\n",
              "      <th></th>\n",
              "      <th>x</th>\n",
              "      <th>y</th>\n",
              "    </tr>\n",
              "  </thead>\n",
              "  <tbody>\n",
              "    <tr>\n",
              "      <th>count</th>\n",
              "      <td>700.000000</td>\n",
              "      <td>699.000000</td>\n",
              "    </tr>\n",
              "    <tr>\n",
              "      <th>mean</th>\n",
              "      <td>54.985939</td>\n",
              "      <td>49.939869</td>\n",
              "    </tr>\n",
              "    <tr>\n",
              "      <th>std</th>\n",
              "      <td>134.681703</td>\n",
              "      <td>29.109217</td>\n",
              "    </tr>\n",
              "    <tr>\n",
              "      <th>min</th>\n",
              "      <td>0.000000</td>\n",
              "      <td>-3.839981</td>\n",
              "    </tr>\n",
              "    <tr>\n",
              "      <th>25%</th>\n",
              "      <td>25.000000</td>\n",
              "      <td>24.929968</td>\n",
              "    </tr>\n",
              "    <tr>\n",
              "      <th>50%</th>\n",
              "      <td>49.000000</td>\n",
              "      <td>48.973020</td>\n",
              "    </tr>\n",
              "    <tr>\n",
              "      <th>75%</th>\n",
              "      <td>75.000000</td>\n",
              "      <td>74.929911</td>\n",
              "    </tr>\n",
              "    <tr>\n",
              "      <th>max</th>\n",
              "      <td>3530.157369</td>\n",
              "      <td>108.871618</td>\n",
              "    </tr>\n",
              "  </tbody>\n",
              "</table>\n",
              "</div>\n",
              "      <button class=\"colab-df-convert\" onclick=\"convertToInteractive('df-bf7de285-a673-4f4f-9835-7b6f4a83b068')\"\n",
              "              title=\"Convert this dataframe to an interactive table.\"\n",
              "              style=\"display:none;\">\n",
              "        \n",
              "  <svg xmlns=\"http://www.w3.org/2000/svg\" height=\"24px\"viewBox=\"0 0 24 24\"\n",
              "       width=\"24px\">\n",
              "    <path d=\"M0 0h24v24H0V0z\" fill=\"none\"/>\n",
              "    <path d=\"M18.56 5.44l.94 2.06.94-2.06 2.06-.94-2.06-.94-.94-2.06-.94 2.06-2.06.94zm-11 1L8.5 8.5l.94-2.06 2.06-.94-2.06-.94L8.5 2.5l-.94 2.06-2.06.94zm10 10l.94 2.06.94-2.06 2.06-.94-2.06-.94-.94-2.06-.94 2.06-2.06.94z\"/><path d=\"M17.41 7.96l-1.37-1.37c-.4-.4-.92-.59-1.43-.59-.52 0-1.04.2-1.43.59L10.3 9.45l-7.72 7.72c-.78.78-.78 2.05 0 2.83L4 21.41c.39.39.9.59 1.41.59.51 0 1.02-.2 1.41-.59l7.78-7.78 2.81-2.81c.8-.78.8-2.07 0-2.86zM5.41 20L4 18.59l7.72-7.72 1.47 1.35L5.41 20z\"/>\n",
              "  </svg>\n",
              "      </button>\n",
              "      \n",
              "  <style>\n",
              "    .colab-df-container {\n",
              "      display:flex;\n",
              "      flex-wrap:wrap;\n",
              "      gap: 12px;\n",
              "    }\n",
              "\n",
              "    .colab-df-convert {\n",
              "      background-color: #E8F0FE;\n",
              "      border: none;\n",
              "      border-radius: 50%;\n",
              "      cursor: pointer;\n",
              "      display: none;\n",
              "      fill: #1967D2;\n",
              "      height: 32px;\n",
              "      padding: 0 0 0 0;\n",
              "      width: 32px;\n",
              "    }\n",
              "\n",
              "    .colab-df-convert:hover {\n",
              "      background-color: #E2EBFA;\n",
              "      box-shadow: 0px 1px 2px rgba(60, 64, 67, 0.3), 0px 1px 3px 1px rgba(60, 64, 67, 0.15);\n",
              "      fill: #174EA6;\n",
              "    }\n",
              "\n",
              "    [theme=dark] .colab-df-convert {\n",
              "      background-color: #3B4455;\n",
              "      fill: #D2E3FC;\n",
              "    }\n",
              "\n",
              "    [theme=dark] .colab-df-convert:hover {\n",
              "      background-color: #434B5C;\n",
              "      box-shadow: 0px 1px 3px 1px rgba(0, 0, 0, 0.15);\n",
              "      filter: drop-shadow(0px 1px 2px rgba(0, 0, 0, 0.3));\n",
              "      fill: #FFFFFF;\n",
              "    }\n",
              "  </style>\n",
              "\n",
              "      <script>\n",
              "        const buttonEl =\n",
              "          document.querySelector('#df-bf7de285-a673-4f4f-9835-7b6f4a83b068 button.colab-df-convert');\n",
              "        buttonEl.style.display =\n",
              "          google.colab.kernel.accessAllowed ? 'block' : 'none';\n",
              "\n",
              "        async function convertToInteractive(key) {\n",
              "          const element = document.querySelector('#df-bf7de285-a673-4f4f-9835-7b6f4a83b068');\n",
              "          const dataTable =\n",
              "            await google.colab.kernel.invokeFunction('convertToInteractive',\n",
              "                                                     [key], {});\n",
              "          if (!dataTable) return;\n",
              "\n",
              "          const docLinkHtml = 'Like what you see? Visit the ' +\n",
              "            '<a target=\"_blank\" href=https://colab.research.google.com/notebooks/data_table.ipynb>data table notebook</a>'\n",
              "            + ' to learn more about interactive tables.';\n",
              "          element.innerHTML = '';\n",
              "          dataTable['output_type'] = 'display_data';\n",
              "          await google.colab.output.renderOutput(dataTable, element);\n",
              "          const docLink = document.createElement('div');\n",
              "          docLink.innerHTML = docLinkHtml;\n",
              "          element.appendChild(docLink);\n",
              "        }\n",
              "      </script>\n",
              "    </div>\n",
              "  </div>\n",
              "  "
            ],
            "text/plain": [
              "                 x           y\n",
              "count   700.000000  699.000000\n",
              "mean     54.985939   49.939869\n",
              "std     134.681703   29.109217\n",
              "min       0.000000   -3.839981\n",
              "25%      25.000000   24.929968\n",
              "50%      49.000000   48.973020\n",
              "75%      75.000000   74.929911\n",
              "max    3530.157369  108.871618"
            ]
          },
          "metadata": {},
          "execution_count": 13
        }
      ]
    },
    {
      "cell_type": "code",
      "source": [
        "data = data[data[\"x\"] <= 75]"
      ],
      "metadata": {
        "id": "wAqT-tjzqHAy"
      },
      "execution_count": 15,
      "outputs": []
    },
    {
      "cell_type": "code",
      "source": [
        "#after the outliers are eliminated, we should plot the dataset again\n",
        "plt.plot(data)"
      ],
      "metadata": {
        "colab": {
          "base_uri": "https://localhost:8080/",
          "height": 300
        },
        "id": "J7ZbviwvqIoF",
        "outputId": "bcef6f60-cc7b-480d-9b2b-128d8996e6b2"
      },
      "execution_count": 16,
      "outputs": [
        {
          "output_type": "execute_result",
          "data": {
            "text/plain": [
              "[<matplotlib.lines.Line2D at 0x7ff77f0d4510>,\n",
              " <matplotlib.lines.Line2D at 0x7ff783a93710>]"
            ]
          },
          "metadata": {},
          "execution_count": 16
        },
        {
          "output_type": "display_data",
          "data": {
            "image/png": "[encoded data removed]",
            "text/plain": [
              "<Figure size 432x288 with 1 Axes>"
            ]
          },
          "metadata": {
            "needs_background": "light"
          }
        }
      ]
    },
    {
      "cell_type": "code",
      "source": [
        "data.describe()"
      ],
      "metadata": {
        "colab": {
          "base_uri": "https://localhost:8080/",
          "height": 300
        },
        "id": "Dl5zJWxzqj0c",
        "outputId": "c8d814c9-d6e3-4527-cec2-39c124135046"
      },
      "execution_count": 17,
      "outputs": [
        {
          "output_type": "execute_result",
          "data": {
            "text/html": [
              "\n",
              "  <div id=\"df-ca87b42a-8a88-4caa-a019-1678c650158a\">\n",
              "    <div class=\"colab-df-container\">\n",
              "      <div>\n",
              "<style scoped>\n",
              "    .dataframe tbody tr th:only-of-type {\n",
              "        vertical-align: middle;\n",
              "    }\n",
              "\n",
              "    .dataframe tbody tr th {\n",
              "        vertical-align: top;\n",
              "    }\n",
              "\n",
              "    .dataframe thead th {\n",
              "        text-align: right;\n",
              "    }\n",
              "</style>\n",
              "<table border=\"1\" class=\"dataframe\">\n",
              "  <thead>\n",
              "    <tr style=\"text-align: right;\">\n",
              "      <th></th>\n",
              "      <th>x</th>\n",
              "      <th>y</th>\n",
              "    </tr>\n",
              "  </thead>\n",
              "  <tbody>\n",
              "    <tr>\n",
              "      <th>count</th>\n",
              "      <td>532.000000</td>\n",
              "      <td>532.000000</td>\n",
              "    </tr>\n",
              "    <tr>\n",
              "      <th>mean</th>\n",
              "      <td>37.727444</td>\n",
              "      <td>37.660754</td>\n",
              "    </tr>\n",
              "    <tr>\n",
              "      <th>std</th>\n",
              "      <td>21.280013</td>\n",
              "      <td>21.550090</td>\n",
              "    </tr>\n",
              "    <tr>\n",
              "      <th>min</th>\n",
              "      <td>0.000000</td>\n",
              "      <td>-3.839981</td>\n",
              "    </tr>\n",
              "    <tr>\n",
              "      <th>25%</th>\n",
              "      <td>20.000000</td>\n",
              "      <td>20.339549</td>\n",
              "    </tr>\n",
              "    <tr>\n",
              "      <th>50%</th>\n",
              "      <td>38.000000</td>\n",
              "      <td>37.951608</td>\n",
              "    </tr>\n",
              "    <tr>\n",
              "      <th>75%</th>\n",
              "      <td>55.000000</td>\n",
              "      <td>54.555631</td>\n",
              "    </tr>\n",
              "    <tr>\n",
              "      <th>max</th>\n",
              "      <td>75.000000</td>\n",
              "      <td>80.230517</td>\n",
              "    </tr>\n",
              "  </tbody>\n",
              "</table>\n",
              "</div>\n",
              "      <button class=\"colab-df-convert\" onclick=\"convertToInteractive('df-ca87b42a-8a88-4caa-a019-1678c650158a')\"\n",
              "              title=\"Convert this dataframe to an interactive table.\"\n",
              "              style=\"display:none;\">\n",
              "        \n",
              "  <svg xmlns=\"http://www.w3.org/2000/svg\" height=\"24px\"viewBox=\"0 0 24 24\"\n",
              "       width=\"24px\">\n",
              "    <path d=\"M0 0h24v24H0V0z\" fill=\"none\"/>\n",
              "    <path d=\"M18.56 5.44l.94 2.06.94-2.06 2.06-.94-2.06-.94-.94-2.06-.94 2.06-2.06.94zm-11 1L8.5 8.5l.94-2.06 2.06-.94-2.06-.94L8.5 2.5l-.94 2.06-2.06.94zm10 10l.94 2.06.94-2.06 2.06-.94-2.06-.94-.94-2.06-.94 2.06-2.06.94z\"/><path d=\"M17.41 7.96l-1.37-1.37c-.4-.4-.92-.59-1.43-.59-.52 0-1.04.2-1.43.59L10.3 9.45l-7.72 7.72c-.78.78-.78 2.05 0 2.83L4 21.41c.39.39.9.59 1.41.59.51 0 1.02-.2 1.41-.59l7.78-7.78 2.81-2.81c.8-.78.8-2.07 0-2.86zM5.41 20L4 18.59l7.72-7.72 1.47 1.35L5.41 20z\"/>\n",
              "  </svg>\n",
              "      </button>\n",
              "      \n",
              "  <style>\n",
              "    .colab-df-container {\n",
              "      display:flex;\n",
              "      flex-wrap:wrap;\n",
              "      gap: 12px;\n",
              "    }\n",
              "\n",
              "    .colab-df-convert {\n",
              "      background-color: #E8F0FE;\n",
              "      border: none;\n",
              "      border-radius: 50%;\n",
              "      cursor: pointer;\n",
              "      display: none;\n",
              "      fill: #1967D2;\n",
              "      height: 32px;\n",
              "      padding: 0 0 0 0;\n",
              "      width: 32px;\n",
              "    }\n",
              "\n",
              "    .colab-df-convert:hover {\n",
              "      background-color: #E2EBFA;\n",
              "      box-shadow: 0px 1px 2px rgba(60, 64, 67, 0.3), 0px 1px 3px 1px rgba(60, 64, 67, 0.15);\n",
              "      fill: #174EA6;\n",
              "    }\n",
              "\n",
              "    [theme=dark] .colab-df-convert {\n",
              "      background-color: #3B4455;\n",
              "      fill: #D2E3FC;\n",
              "    }\n",
              "\n",
              "    [theme=dark] .colab-df-convert:hover {\n",
              "      background-color: #434B5C;\n",
              "      box-shadow: 0px 1px 3px 1px rgba(0, 0, 0, 0.15);\n",
              "      filter: drop-shadow(0px 1px 2px rgba(0, 0, 0, 0.3));\n",
              "      fill: #FFFFFF;\n",
              "    }\n",
              "  </style>\n",
              "\n",
              "      <script>\n",
              "        const buttonEl =\n",
              "          document.querySelector('#df-ca87b42a-8a88-4caa-a019-1678c650158a button.colab-df-convert');\n",
              "        buttonEl.style.display =\n",
              "          google.colab.kernel.accessAllowed ? 'block' : 'none';\n",
              "\n",
              "        async function convertToInteractive(key) {\n",
              "          const element = document.querySelector('#df-ca87b42a-8a88-4caa-a019-1678c650158a');\n",
              "          const dataTable =\n",
              "            await google.colab.kernel.invokeFunction('convertToInteractive',\n",
              "                                                     [key], {});\n",
              "          if (!dataTable) return;\n",
              "\n",
              "          const docLinkHtml = 'Like what you see? Visit the ' +\n",
              "            '<a target=\"_blank\" href=https://colab.research.google.com/notebooks/data_table.ipynb>data table notebook</a>'\n",
              "            + ' to learn more about interactive tables.';\n",
              "          element.innerHTML = '';\n",
              "          dataTable['output_type'] = 'display_data';\n",
              "          await google.colab.output.renderOutput(dataTable, element);\n",
              "          const docLink = document.createElement('div');\n",
              "          docLink.innerHTML = docLinkHtml;\n",
              "          element.appendChild(docLink);\n",
              "        }\n",
              "      </script>\n",
              "    </div>\n",
              "  </div>\n",
              "  "
            ],
            "text/plain": [
              "                x           y\n",
              "count  532.000000  532.000000\n",
              "mean    37.727444   37.660754\n",
              "std     21.280013   21.550090\n",
              "min      0.000000   -3.839981\n",
              "25%     20.000000   20.339549\n",
              "50%     38.000000   37.951608\n",
              "75%     55.000000   54.555631\n",
              "max     75.000000   80.230517"
            ]
          },
          "metadata": {},
          "execution_count": 17
        }
      ]
    },
    {
      "cell_type": "code",
      "source": [
        "plt.scatter(x=data[\"x\"],y=data[\"y\"])"
      ],
      "metadata": {
        "colab": {
          "base_uri": "https://localhost:8080/",
          "height": 282
        },
        "id": "Z8prkMlVqms9",
        "outputId": "7cfff668-9482-43d2-c3ed-0ba5dfc92a1b"
      },
      "execution_count": 19,
      "outputs": [
        {
          "output_type": "execute_result",
          "data": {
            "text/plain": [
              "<matplotlib.collections.PathCollection at 0x7ff77e8670d0>"
            ]
          },
          "metadata": {},
          "execution_count": 19
        },
        {
          "output_type": "display_data",
          "data": {
            "image/png": "[encoded data removed]",
            "text/plain": [
              "<Figure size 432x288 with 1 Axes>"
            ]
          },
          "metadata": {
            "needs_background": "light"
          }
        }
      ]
    },
    {
      "cell_type": "code",
      "source": [
        "#it looks like we can get really good results for linear regression on this dataset"
      ],
      "metadata": {
        "id": "S3X-RLZjqtG9"
      },
      "execution_count": 20,
      "outputs": []
    },
    {
      "cell_type": "code",
      "source": [
        "X,y = pd.to_numpy"
      ],
      "metadata": {
        "id": "u8Wr0VHZsFId"
      },
      "execution_count": 23,
      "outputs": []
    },
    {
      "cell_type": "code",
      "source": [
        "X"
      ],
      "metadata": {
        "colab": {
          "base_uri": "https://localhost:8080/",
          "height": 35
        },
        "id": "Ni9I_1MWsGyg",
        "outputId": "7c6eaefc-2a15-4a63-c525-d3109c309f78"
      },
      "execution_count": 24,
      "outputs": [
        {
          "output_type": "execute_result",
          "data": {
            "application/vnd.google.colaboratory.intrinsic+json": {
              "type": "string"
            },
            "text/plain": [
              "'x'"
            ]
          },
          "metadata": {},
          "execution_count": 24
        }
      ]
    },
    {
      "cell_type": "code",
      "source": [
        "class LinearRegression:\n",
        "  #initialize global parameters\n",
        "  seed = 42\n",
        "  alpha = 0.01\n",
        "\n",
        "  def __init__(self,data):\n",
        "    X = data['x']\n",
        "    self.X = np.concatenate((np.ones((len(data),1)),np.expand_dims(X.reset_index()[\"x\"].to_numpy(),axis=1)),axis=1)\n",
        "    self.y = data[\"y\"]\n",
        "    self.theta = np.ones((2,1))\n",
        "    self.m = len(data)\n",
        "\n",
        "\n",
        "  #return the hypothesis\n",
        "  def hypothesis(self):\n",
        "    return np.sum(np.transpose(self.theta)* self.X,axis=1)\n",
        "\n",
        "  \n",
        "  def gradient_cost(self):\n",
        "    return (self.alpha * ((1/self.m) * sum(self.hypothesis() - self.y) * self.X))\n",
        "  \n",
        "  #perform the parameter updates for theta\n",
        "  def update_theta(self):\n",
        "    temp_list = np.zeros(len(self.theta))\n",
        "    for i in range(len(self.theta)):\n",
        "      temp_list[i] = self.theta[i] - self.gradient_cost()\n",
        "    \n",
        "    theta = temp_list\n",
        "  \n",
        "  @classmethod\n",
        "  def perform_epoch\n",
        "\n",
        "\n",
        "\n"
      ],
      "metadata": {
        "id": "_A8ialyIq5GA"
      },
      "execution_count": null,
      "outputs": []
    },
    {
      "cell_type": "code",
      "source": [
        "X.reset_index()[\"x\"]"
      ],
      "metadata": {
        "colab": {
          "base_uri": "https://localhost:8080/"
        },
        "id": "nS-9fgZPyvRI",
        "outputId": "e3d500c3-dd09-4e3e-c56e-6cc74c7361d5"
      },
      "execution_count": 48,
      "outputs": [
        {
          "output_type": "execute_result",
          "data": {
            "text/plain": [
              "0      24.0\n",
              "1      50.0\n",
              "2      15.0\n",
              "3      38.0\n",
              "4      36.0\n",
              "       ... \n",
              "527    73.0\n",
              "528     9.0\n",
              "529    72.0\n",
              "530    58.0\n",
              "531    66.0\n",
              "Name: x, Length: 532, dtype: float64"
            ]
          },
          "metadata": {},
          "execution_count": 48
        }
      ]
    },
    {
      "cell_type": "code",
      "source": [
        "new_array = np.concatenate((np.ones((len(data),1)),np.expand_dims(X.reset_index()[\"x\"].to_numpy(),axis=1)),axis=1)"
      ],
      "metadata": {
        "id": "AyZuvRBOwyu3"
      },
      "execution_count": 59,
      "outputs": []
    },
    {
      "cell_type": "code",
      "source": [
        "np.transpose(theta) * new_array"
      ],
      "metadata": {
        "colab": {
          "base_uri": "https://localhost:8080/"
        },
        "id": "sOp3ehUT0kqt",
        "outputId": "200b1201-cb2b-4428-b31b-e3d71a6ab894"
      },
      "execution_count": 60,
      "outputs": [
        {
          "output_type": "execute_result",
          "data": {
            "text/plain": [
              "array([[ 1., 24.],\n",
              "       [ 1., 50.],\n",
              "       [ 1., 15.],\n",
              "       ...,\n",
              "       [ 1., 72.],\n",
              "       [ 1., 58.],\n",
              "       [ 1., 66.]])"
            ]
          },
          "metadata": {},
          "execution_count": 60
        }
      ]
    },
    {
      "cell_type": "code",
      "source": [
        "np.sum(new_array,axis=1)"
      ],
      "metadata": {
        "colab": {
          "base_uri": "https://localhost:8080/"
        },
        "id": "dW0p1wvD0qr1",
        "outputId": "06946f72-5121-41fb-d5bb-ff69e387816f"
      },
      "execution_count": 61,
      "outputs": [
        {
          "output_type": "execute_result",
          "data": {
            "text/plain": [
              "array([25., 51., 16., 39., 37., 13., 26.,  6., 17., 17., 25., 40., 55.,\n",
              "       61., 27., 74., 30., 32., 69., 59., 55., 59., 50., 21., 49.,  5.,\n",
              "       26., 43.,  1., 61., 40.,  8., 22., 69.,  1., 59., 20., 37., 20.,\n",
              "       60., 52., 20., 34., 45.,  6., 60., 15., 10., 76., 70., 11., 18.,\n",
              "       59., 75., 22., 52., 20., 51., 25.,  1., 13., 76., 22., 65.,  6.,\n",
              "       59., 33., 42.,  8.,  5.,  6., 50.,  4., 12., 33., 26., 27., 54.,\n",
              "       43., 26., 55., 56.,  1., 74., 36., 14., 47., 47., 33.,  9., 72.,\n",
              "       29., 25., 57., 50., 42., 28., 59., 27., 32., 71., 72., 40.,  8.,\n",
              "       49., 57., 46., 42.,  4., 38., 25., 69., 48., 28., 69., 75., 22.,\n",
              "       55., 57., 27., 26.,  9., 55.,  8., 37., 49., 66., 43., 27., 52.,\n",
              "        7., 25., 76.,  8., 54., 74., 17., 56., 20., 57., 48., 57.,  3.,\n",
              "       58., 45., 27., 53., 42., 45.,  4., 32., 22., 18.,  8., 62., 11.,\n",
              "       53., 11., 66., 72.,  5., 25., 27., 52., 43., 63., 75.,  4., 51.,\n",
              "       25., 38., 59., 53., 28., 15., 73.,  6., 72., 55., 43., 55., 75.,\n",
              "       55., 54., 50., 72., 49., 52., 50., 19., 66., 42., 53., 30.,  8.,\n",
              "       52., 59., 51., 68., 36., 32., 53., 12., 67., 51., 40., 61., 36.,\n",
              "       54., 15., 50., 17., 14., 52., 71., 47., 52., 51., 49., 39., 41.,\n",
              "       61., 71., 45., 12.,  7.,  6., 73., 56., 42., 26.,  2., 56.,  5.,\n",
              "       49., 56., 76., 69., 26., 76., 35., 39., 22., 76., 45., 11., 22.,\n",
              "       17., 33., 14., 27., 71., 36., 25., 18., 33., 37., 70., 31.,  7.,\n",
              "       23., 68., 10., 75., 51.,  4.,  1., 60., 63., 18., 24., 20., 15.,\n",
              "       59., 38., 21., 36., 64., 57., 63., 52., 23., 39., 14., 32., 74.,\n",
              "       38., 24., 12., 48., 72., 11., 40., 29., 33., 33., 76., 28., 65.,\n",
              "       39., 47., 14., 10., 35., 50.,  2., 51., 28., 21., 13., 46., 62.,\n",
              "       11., 48., 34., 25., 49., 49., 10.,  9., 21., 39., 43., 45., 69.,\n",
              "       59., 53., 27., 76., 49., 72., 35., 25., 71., 30., 29., 10., 34.,\n",
              "       65., 18., 50., 76., 26., 48., 51.,  6., 69.,  9., 42., 27., 35.,\n",
              "       28., 13.,  3., 23.,  1., 27., 51., 71., 67., 43., 20., 72., 20.,\n",
              "       17., 50., 30., 30., 51., 31., 24., 21., 17., 58.,  9.,  9., 63.,\n",
              "       56., 31., 63., 52., 62., 62., 22.,  6., 62., 48., 31., 64.,  1.,\n",
              "       19., 31., 17., 23., 56., 44., 76., 47., 56., 37., 50., 44., 23.,\n",
              "       38., 25., 62., 76., 69., 59.,  6., 54., 26., 35., 27., 61., 50.,\n",
              "       20., 30.,  9., 58., 30., 20., 51., 16., 71., 40., 44., 22., 17.,\n",
              "       26., 32., 68., 50., 26., 55., 22.,  9., 33., 36., 68., 60., 16.,\n",
              "       68., 43., 45., 69., 37., 12., 11., 66., 50., 32., 57., 71., 26.,\n",
              "       55., 40.,  4., 23.,  3.,  3., 66., 72., 43., 44.,  9.,  4., 59.,\n",
              "       63., 29.,  1.,  2., 50., 22., 47., 12., 38., 30., 45., 17., 75.,\n",
              "       36., 43., 17., 57., 19., 55., 64., 74., 49.,  2., 15., 26., 46.,\n",
              "       59., 48.,  7., 35., 31., 17., 41., 53., 16.,  5., 36., 59., 11.,\n",
              "       17., 54., 59., 43., 25., 65., 13., 62., 76., 16., 44., 14., 49.,\n",
              "       46., 53., 35., 31., 66., 68., 46., 74., 10., 73., 59., 67.])"
            ]
          },
          "metadata": {},
          "execution_count": 61
        }
      ]
    },
    {
      "cell_type": "code",
      "source": [
        "np.expand_dims(X.reset_index()[\"x\"].to_numpy(),axis=1)"
      ],
      "metadata": {
        "colab": {
          "base_uri": "https://localhost:8080/"
        },
        "id": "ceJtwseVycLg",
        "outputId": "b5c9f9ee-9bf7-45d4-e7fc-7d13fa593618"
      },
      "execution_count": 53,
      "outputs": [
        {
          "output_type": "execute_result",
          "data": {
            "text/plain": [
              "array([[24.],\n",
              "       [50.],\n",
              "       [15.],\n",
              "       [38.],\n",
              "       [36.],\n",
              "       [12.],\n",
              "       [25.],\n",
              "       [ 5.],\n",
              "       [16.],\n",
              "       [16.],\n",
              "       [24.],\n",
              "       [39.],\n",
              "       [54.],\n",
              "       [60.],\n",
              "       [26.],\n",
              "       [73.],\n",
              "       [29.],\n",
              "       [31.],\n",
              "       [68.],\n",
              "       [58.],\n",
              "       [54.],\n",
              "       [58.],\n",
              "       [49.],\n",
              "       [20.],\n",
              "       [48.],\n",
              "       [ 4.],\n",
              "       [25.],\n",
              "       [42.],\n",
              "       [ 0.],\n",
              "       [60.],\n",
              "       [39.],\n",
              "       [ 7.],\n",
              "       [21.],\n",
              "       [68.],\n",
              "       [ 0.],\n",
              "       [58.],\n",
              "       [19.],\n",
              "       [36.],\n",
              "       [19.],\n",
              "       [59.],\n",
              "       [51.],\n",
              "       [19.],\n",
              "       [33.],\n",
              "       [44.],\n",
              "       [ 5.],\n",
              "       [59.],\n",
              "       [14.],\n",
              "       [ 9.],\n",
              "       [75.],\n",
              "       [69.],\n",
              "       [10.],\n",
              "       [17.],\n",
              "       [58.],\n",
              "       [74.],\n",
              "       [21.],\n",
              "       [51.],\n",
              "       [19.],\n",
              "       [50.],\n",
              "       [24.],\n",
              "       [ 0.],\n",
              "       [12.],\n",
              "       [75.],\n",
              "       [21.],\n",
              "       [64.],\n",
              "       [ 5.],\n",
              "       [58.],\n",
              "       [32.],\n",
              "       [41.],\n",
              "       [ 7.],\n",
              "       [ 4.],\n",
              "       [ 5.],\n",
              "       [49.],\n",
              "       [ 3.],\n",
              "       [11.],\n",
              "       [32.],\n",
              "       [25.],\n",
              "       [26.],\n",
              "       [53.],\n",
              "       [42.],\n",
              "       [25.],\n",
              "       [54.],\n",
              "       [55.],\n",
              "       [ 0.],\n",
              "       [73.],\n",
              "       [35.],\n",
              "       [13.],\n",
              "       [46.],\n",
              "       [46.],\n",
              "       [32.],\n",
              "       [ 8.],\n",
              "       [71.],\n",
              "       [28.],\n",
              "       [24.],\n",
              "       [56.],\n",
              "       [49.],\n",
              "       [41.],\n",
              "       [27.],\n",
              "       [58.],\n",
              "       [26.],\n",
              "       [31.],\n",
              "       [70.],\n",
              "       [71.],\n",
              "       [39.],\n",
              "       [ 7.],\n",
              "       [48.],\n",
              "       [56.],\n",
              "       [45.],\n",
              "       [41.],\n",
              "       [ 3.],\n",
              "       [37.],\n",
              "       [24.],\n",
              "       [68.],\n",
              "       [47.],\n",
              "       [27.],\n",
              "       [68.],\n",
              "       [74.],\n",
              "       [21.],\n",
              "       [54.],\n",
              "       [56.],\n",
              "       [26.],\n",
              "       [25.],\n",
              "       [ 8.],\n",
              "       [54.],\n",
              "       [ 7.],\n",
              "       [36.],\n",
              "       [48.],\n",
              "       [65.],\n",
              "       [42.],\n",
              "       [26.],\n",
              "       [51.],\n",
              "       [ 6.],\n",
              "       [24.],\n",
              "       [75.],\n",
              "       [ 7.],\n",
              "       [53.],\n",
              "       [73.],\n",
              "       [16.],\n",
              "       [55.],\n",
              "       [19.],\n",
              "       [56.],\n",
              "       [47.],\n",
              "       [56.],\n",
              "       [ 2.],\n",
              "       [57.],\n",
              "       [44.],\n",
              "       [26.],\n",
              "       [52.],\n",
              "       [41.],\n",
              "       [44.],\n",
              "       [ 3.],\n",
              "       [31.],\n",
              "       [21.],\n",
              "       [17.],\n",
              "       [ 7.],\n",
              "       [61.],\n",
              "       [10.],\n",
              "       [52.],\n",
              "       [10.],\n",
              "       [65.],\n",
              "       [71.],\n",
              "       [ 4.],\n",
              "       [24.],\n",
              "       [26.],\n",
              "       [51.],\n",
              "       [42.],\n",
              "       [62.],\n",
              "       [74.],\n",
              "       [ 3.],\n",
              "       [50.],\n",
              "       [24.],\n",
              "       [37.],\n",
              "       [58.],\n",
              "       [52.],\n",
              "       [27.],\n",
              "       [14.],\n",
              "       [72.],\n",
              "       [ 5.],\n",
              "       [71.],\n",
              "       [54.],\n",
              "       [42.],\n",
              "       [54.],\n",
              "       [74.],\n",
              "       [54.],\n",
              "       [53.],\n",
              "       [49.],\n",
              "       [71.],\n",
              "       [48.],\n",
              "       [51.],\n",
              "       [49.],\n",
              "       [18.],\n",
              "       [65.],\n",
              "       [41.],\n",
              "       [52.],\n",
              "       [29.],\n",
              "       [ 7.],\n",
              "       [51.],\n",
              "       [58.],\n",
              "       [50.],\n",
              "       [67.],\n",
              "       [35.],\n",
              "       [31.],\n",
              "       [52.],\n",
              "       [11.],\n",
              "       [66.],\n",
              "       [50.],\n",
              "       [39.],\n",
              "       [60.],\n",
              "       [35.],\n",
              "       [53.],\n",
              "       [14.],\n",
              "       [49.],\n",
              "       [16.],\n",
              "       [13.],\n",
              "       [51.],\n",
              "       [70.],\n",
              "       [46.],\n",
              "       [51.],\n",
              "       [50.],\n",
              "       [48.],\n",
              "       [38.],\n",
              "       [40.],\n",
              "       [60.],\n",
              "       [70.],\n",
              "       [44.],\n",
              "       [11.],\n",
              "       [ 6.],\n",
              "       [ 5.],\n",
              "       [72.],\n",
              "       [55.],\n",
              "       [41.],\n",
              "       [25.],\n",
              "       [ 1.],\n",
              "       [55.],\n",
              "       [ 4.],\n",
              "       [48.],\n",
              "       [55.],\n",
              "       [75.],\n",
              "       [68.],\n",
              "       [25.],\n",
              "       [75.],\n",
              "       [34.],\n",
              "       [38.],\n",
              "       [21.],\n",
              "       [75.],\n",
              "       [44.],\n",
              "       [10.],\n",
              "       [21.],\n",
              "       [16.],\n",
              "       [32.],\n",
              "       [13.],\n",
              "       [26.],\n",
              "       [70.],\n",
              "       [35.],\n",
              "       [24.],\n",
              "       [17.],\n",
              "       [32.],\n",
              "       [36.],\n",
              "       [69.],\n",
              "       [30.],\n",
              "       [ 6.],\n",
              "       [22.],\n",
              "       [67.],\n",
              "       [ 9.],\n",
              "       [74.],\n",
              "       [50.],\n",
              "       [ 3.],\n",
              "       [ 0.],\n",
              "       [59.],\n",
              "       [62.],\n",
              "       [17.],\n",
              "       [23.],\n",
              "       [19.],\n",
              "       [14.],\n",
              "       [58.],\n",
              "       [37.],\n",
              "       [20.],\n",
              "       [35.],\n",
              "       [63.],\n",
              "       [56.],\n",
              "       [62.],\n",
              "       [51.],\n",
              "       [22.],\n",
              "       [38.],\n",
              "       [13.],\n",
              "       [31.],\n",
              "       [73.],\n",
              "       [37.],\n",
              "       [23.],\n",
              "       [11.],\n",
              "       [47.],\n",
              "       [71.],\n",
              "       [10.],\n",
              "       [39.],\n",
              "       [28.],\n",
              "       [32.],\n",
              "       [32.],\n",
              "       [75.],\n",
              "       [27.],\n",
              "       [64.],\n",
              "       [38.],\n",
              "       [46.],\n",
              "       [13.],\n",
              "       [ 9.],\n",
              "       [34.],\n",
              "       [49.],\n",
              "       [ 1.],\n",
              "       [50.],\n",
              "       [27.],\n",
              "       [20.],\n",
              "       [12.],\n",
              "       [45.],\n",
              "       [61.],\n",
              "       [10.],\n",
              "       [47.],\n",
              "       [33.],\n",
              "       [24.],\n",
              "       [48.],\n",
              "       [48.],\n",
              "       [ 9.],\n",
              "       [ 8.],\n",
              "       [20.],\n",
              "       [38.],\n",
              "       [42.],\n",
              "       [44.],\n",
              "       [68.],\n",
              "       [58.],\n",
              "       [52.],\n",
              "       [26.],\n",
              "       [75.],\n",
              "       [48.],\n",
              "       [71.],\n",
              "       [34.],\n",
              "       [24.],\n",
              "       [70.],\n",
              "       [29.],\n",
              "       [28.],\n",
              "       [ 9.],\n",
              "       [33.],\n",
              "       [64.],\n",
              "       [17.],\n",
              "       [49.],\n",
              "       [75.],\n",
              "       [25.],\n",
              "       [47.],\n",
              "       [50.],\n",
              "       [ 5.],\n",
              "       [68.],\n",
              "       [ 8.],\n",
              "       [41.],\n",
              "       [26.],\n",
              "       [34.],\n",
              "       [27.],\n",
              "       [12.],\n",
              "       [ 2.],\n",
              "       [22.],\n",
              "       [ 0.],\n",
              "       [26.],\n",
              "       [50.],\n",
              "       [70.],\n",
              "       [66.],\n",
              "       [42.],\n",
              "       [19.],\n",
              "       [71.],\n",
              "       [19.],\n",
              "       [16.],\n",
              "       [49.],\n",
              "       [29.],\n",
              "       [29.],\n",
              "       [50.],\n",
              "       [30.],\n",
              "       [23.],\n",
              "       [20.],\n",
              "       [16.],\n",
              "       [57.],\n",
              "       [ 8.],\n",
              "       [ 8.],\n",
              "       [62.],\n",
              "       [55.],\n",
              "       [30.],\n",
              "       [62.],\n",
              "       [51.],\n",
              "       [61.],\n",
              "       [61.],\n",
              "       [21.],\n",
              "       [ 5.],\n",
              "       [61.],\n",
              "       [47.],\n",
              "       [30.],\n",
              "       [63.],\n",
              "       [ 0.],\n",
              "       [18.],\n",
              "       [30.],\n",
              "       [16.],\n",
              "       [22.],\n",
              "       [55.],\n",
              "       [43.],\n",
              "       [75.],\n",
              "       [46.],\n",
              "       [55.],\n",
              "       [36.],\n",
              "       [49.],\n",
              "       [43.],\n",
              "       [22.],\n",
              "       [37.],\n",
              "       [24.],\n",
              "       [61.],\n",
              "       [75.],\n",
              "       [68.],\n",
              "       [58.],\n",
              "       [ 5.],\n",
              "       [53.],\n",
              "       [25.],\n",
              "       [34.],\n",
              "       [26.],\n",
              "       [60.],\n",
              "       [49.],\n",
              "       [19.],\n",
              "       [29.],\n",
              "       [ 8.],\n",
              "       [57.],\n",
              "       [29.],\n",
              "       [19.],\n",
              "       [50.],\n",
              "       [15.],\n",
              "       [70.],\n",
              "       [39.],\n",
              "       [43.],\n",
              "       [21.],\n",
              "       [16.],\n",
              "       [25.],\n",
              "       [31.],\n",
              "       [67.],\n",
              "       [49.],\n",
              "       [25.],\n",
              "       [54.],\n",
              "       [21.],\n",
              "       [ 8.],\n",
              "       [32.],\n",
              "       [35.],\n",
              "       [67.],\n",
              "       [59.],\n",
              "       [15.],\n",
              "       [67.],\n",
              "       [42.],\n",
              "       [44.],\n",
              "       [68.],\n",
              "       [36.],\n",
              "       [11.],\n",
              "       [10.],\n",
              "       [65.],\n",
              "       [49.],\n",
              "       [31.],\n",
              "       [56.],\n",
              "       [70.],\n",
              "       [25.],\n",
              "       [54.],\n",
              "       [39.],\n",
              "       [ 3.],\n",
              "       [22.],\n",
              "       [ 2.],\n",
              "       [ 2.],\n",
              "       [65.],\n",
              "       [71.],\n",
              "       [42.],\n",
              "       [43.],\n",
              "       [ 8.],\n",
              "       [ 3.],\n",
              "       [58.],\n",
              "       [62.],\n",
              "       [28.],\n",
              "       [ 0.],\n",
              "       [ 1.],\n",
              "       [49.],\n",
              "       [21.],\n",
              "       [46.],\n",
              "       [11.],\n",
              "       [37.],\n",
              "       [29.],\n",
              "       [44.],\n",
              "       [16.],\n",
              "       [74.],\n",
              "       [35.],\n",
              "       [42.],\n",
              "       [16.],\n",
              "       [56.],\n",
              "       [18.],\n",
              "       [54.],\n",
              "       [63.],\n",
              "       [73.],\n",
              "       [48.],\n",
              "       [ 1.],\n",
              "       [14.],\n",
              "       [25.],\n",
              "       [45.],\n",
              "       [58.],\n",
              "       [47.],\n",
              "       [ 6.],\n",
              "       [34.],\n",
              "       [30.],\n",
              "       [16.],\n",
              "       [40.],\n",
              "       [52.],\n",
              "       [15.],\n",
              "       [ 4.],\n",
              "       [35.],\n",
              "       [58.],\n",
              "       [10.],\n",
              "       [16.],\n",
              "       [53.],\n",
              "       [58.],\n",
              "       [42.],\n",
              "       [24.],\n",
              "       [64.],\n",
              "       [12.],\n",
              "       [61.],\n",
              "       [75.],\n",
              "       [15.],\n",
              "       [43.],\n",
              "       [13.],\n",
              "       [48.],\n",
              "       [45.],\n",
              "       [52.],\n",
              "       [34.],\n",
              "       [30.],\n",
              "       [65.],\n",
              "       [67.],\n",
              "       [45.],\n",
              "       [73.],\n",
              "       [ 9.],\n",
              "       [72.],\n",
              "       [58.],\n",
              "       [66.]])"
            ]
          },
          "metadata": {},
          "execution_count": 53
        }
      ]
    },
    {
      "cell_type": "code",
      "source": [
        "theta = np.ones((2,1))"
      ],
      "metadata": {
        "id": "HvfiMhuOwy0U"
      },
      "execution_count": 25,
      "outputs": []
    },
    {
      "cell_type": "code",
      "source": [
        "theta"
      ],
      "metadata": {
        "colab": {
          "base_uri": "https://localhost:8080/"
        },
        "id": "c5sDHH6Bw4WI",
        "outputId": "8cc011ce-db8b-41f0-8491-4b4cffadf3f8"
      },
      "execution_count": 27,
      "outputs": [
        {
          "output_type": "execute_result",
          "data": {
            "text/plain": [
              "array([[1.],\n",
              "       [1.]])"
            ]
          },
          "metadata": {},
          "execution_count": 27
        }
      ]
    },
    {
      "cell_type": "code",
      "source": [
        "X = data[\"x\"]"
      ],
      "metadata": {
        "id": "YA_SDMxMw6Ck"
      },
      "execution_count": 29,
      "outputs": []
    },
    {
      "cell_type": "code",
      "source": [
        "X"
      ],
      "metadata": {
        "colab": {
          "base_uri": "https://localhost:8080/"
        },
        "id": "ETOZuNoUw---",
        "outputId": "59084766-d34f-480c-87b0-c4294746c31f"
      },
      "execution_count": 31,
      "outputs": [
        {
          "output_type": "execute_result",
          "data": {
            "text/plain": [
              "0      24.0\n",
              "1      50.0\n",
              "2      15.0\n",
              "3      38.0\n",
              "5      36.0\n",
              "       ... \n",
              "690    73.0\n",
              "691     9.0\n",
              "693    72.0\n",
              "695    58.0\n",
              "698    66.0\n",
              "Name: x, Length: 532, dtype: float64"
            ]
          },
          "metadata": {},
          "execution_count": 31
        }
      ]
    },
    {
      "cell_type": "code",
      "source": [
        ""
      ],
      "metadata": {
        "id": "4amePkYtxg3U"
      },
      "execution_count": null,
      "outputs": []
    },
    {
      "cell_type": "code",
      "source": [
        "np.transpose(theta) * np.expand_dims(X,axis=1) "
      ],
      "metadata": {
        "colab": {
          "base_uri": "https://localhost:8080/"
        },
        "id": "AlYNwDxuw0OC",
        "outputId": "bac3f446-719b-4303-e2fa-ae1d875bdd77"
      },
      "execution_count": 40,
      "outputs": [
        {
          "output_type": "execute_result",
          "data": {
            "text/plain": [
              "array([[24., 24.],\n",
              "       [50., 50.],\n",
              "       [15., 15.],\n",
              "       ...,\n",
              "       [72., 72.],\n",
              "       [58., 58.],\n",
              "       [66., 66.]])"
            ]
          },
          "metadata": {},
          "execution_count": 40
        }
      ]
    },
    {
      "cell_type": "code",
      "source": [
        ""
      ],
      "metadata": {
        "id": "s7vftq7Cw1X8"
      },
      "execution_count": null,
      "outputs": []
    }
  ]
}